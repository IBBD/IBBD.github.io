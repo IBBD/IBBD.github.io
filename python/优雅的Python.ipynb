{
 "cells": [
  {
   "cell_type": "markdown",
   "metadata": {},
   "source": [
    "# 优雅的Python"
   ]
  },
  {
   "cell_type": "markdown",
   "metadata": {},
   "source": [
    "## 1. Python哲学：人生苦短，我用Python"
   ]
  },
  {
   "cell_type": "markdown",
   "metadata": {},
   "source": [
    "在命令行下执行`import this`就能看到，以下是相应的翻译：\n",
    "```\n",
    "Beautiful is better than ugly.\n",
    "优雅胜于丑陋。\n",
    "\n",
    "Explicit is better than implicit.\n",
    "明确胜于含糊。\n",
    "\n",
    "Simple is better than complex.\n",
    "简单胜于复杂。\n",
    "\n",
    "Complex is better than complicated.\n",
    "复杂胜于繁琐。\n",
    "\n",
    "Flat is better than nested.\n",
    "扁平胜于嵌套。\n",
    "\n",
    "Sparse is better than dense.\n",
    "间隔胜于紧凑。\n",
    "\n",
    "Readability counts.\n",
    "可读性很重要。\n",
    "\n",
    "Special cases aren't special enough to break the rules.\n",
    "即使假借特殊之名，也不应打破这些原则。\n",
    "\n",
    "Although practicality beats purity.\n",
    "尽管实践大于理论。\n",
    "\n",
    "Errors should never pass silently.\n",
    "错误不可置之不理。\n",
    "\n",
    "Unless explicitly silenced.\n",
    "除非另有明确要求。\n",
    "\n",
    "In the face of ambiguity, refuse the temptation to guess.\n",
    "面对模棱两可，拒绝猜测。\n",
    "\n",
    "There should be one-- and preferably only one --obvious way to do it.\n",
    "用一种方法，最好是只有一种方法来做一件事。\n",
    "\n",
    "Although that way may not be obvious at first unless you're Dutch.\n",
    "虽然这种方式开始时并不容易，除非你是 Python 之父。\n",
    "\n",
    "Now is better than never.\n",
    "但从现在就开始这么做，总比永远都不做好。\n",
    "\n",
    "Although never is often better than *right* now.\n",
    "尽管经常有时 “没有做” 反倒比 “现在立马做“ 结果要好。\n",
    "\n",
    "If the implementation is hard to explain, it's a bad idea.\n",
    "如果一个实现不容易解释，那么它肯定是个坏主意。\n",
    "\n",
    "If the implementation is easy to explain, it may be a good idea.\n",
    "如果一个实现很容易解释，那么它也许是个好主意。\n",
    "\n",
    "Namespaces are one honking great idea -- let's do more of those!\n",
    "就像命名空间就是一个绝妙的想法，应当多加利用。\n",
    "```"
   ]
  },
  {
   "cell_type": "code",
   "execution_count": null,
   "metadata": {},
   "outputs": [],
   "source": [
    "import this"
   ]
  },
  {
   "cell_type": "markdown",
   "metadata": {},
   "source": [
    "## 2. 基础数据结构\n",
    "\n",
    "Python有哪些基础的数据结构，各自有什么特点"
   ]
  },
  {
   "cell_type": "code",
   "execution_count": null,
   "metadata": {},
   "outputs": [],
   "source": [
    "a = {1, 2, 3}\n",
    "b = {2, 3}\n",
    "1 in a \n",
    "a.intersection(b)"
   ]
  },
  {
   "cell_type": "code",
   "execution_count": null,
   "metadata": {},
   "outputs": [],
   "source": [
    "a = {\"a\": 2, \"b\": 1}\n",
    "for k, v in a.items():\n",
    "    print(k, v)"
   ]
  },
  {
   "cell_type": "markdown",
   "metadata": {},
   "source": [
    "## 3. 编码风格\n",
    "\n",
    "- PEP8规范：https://alvinzhu.xyz/2017/10/07/python-pep-8/\n",
    "- Google的开源项目风格指南：https://zh-google-styleguide.readthedocs.io/en/latest/google-python-styleguide/python_style_rules/"
   ]
  },
  {
   "cell_type": "markdown",
   "metadata": {},
   "source": [
    "## 4. Pythonic"
   ]
  },
  {
   "cell_type": "markdown",
   "metadata": {},
   "source": [
    "### 4.1 基础常用技巧"
   ]
  },
  {
   "cell_type": "code",
   "execution_count": null,
   "metadata": {},
   "outputs": [],
   "source": [
    "# 初始化赋值\n",
    "a = 3\n",
    "b = 1\n",
    "a, b = 3, 1\n",
    "\n",
    "# 链式比较\n",
    "b >= 1 and b <= a and a < 10   # True\n",
    "1 <= b <= a < 10   # True\n",
    "\n",
    "# 真值测试\n",
    "name = 'Tim'\n",
    "langs = ['AS3', 'Lua', 'C']\n",
    "info = {'name': 'Tim', 'sex': 'Male', 'age':23 }    \n",
    " \n",
    "if name != '' and len(langs) > 0 and info != {}:\n",
    "    print('All True!') # All True!\n",
    "if name and langs and info:\n",
    "    print('True')\n",
    "\n",
    "# if/else 三目运算\n",
    "gender = 'male'\n",
    "if gender == 'male':\n",
    "    text = '男'\n",
    "else:\n",
    "    text = '女'\n",
    "\n",
    "text = '男' if gender == 'male' else '女'\n",
    "\n",
    "# 字符串格式化\n",
    "name = \"Alex\"\n",
    "age = 25.3231\n",
    "s3 = \"name: %s, age: %f\" % (name, age)\n",
    "\n",
    "# 应该这样：\n",
    "print(\"name: {name}, age: {age}\".format(name=name, age=age))\n",
    "# 如果是Python3.6及以上版本\n",
    "print(f\"name: {name}, age: {age:.2f}\")\n",
    "\n",
    "# 列表切片\n",
    "items = list(range(10))\n",
    "items[2:-3:2]"
   ]
  },
  {
   "cell_type": "markdown",
   "metadata": {},
   "source": [
    "### 4.2 列表拷贝"
   ]
  },
  {
   "cell_type": "code",
   "execution_count": null,
   "metadata": {},
   "outputs": [],
   "source": [
    "# 不推荐的写法\n",
    "copy_items = []\n",
    "for i in items:\n",
    "    copy_items.append(i)\n",
    "\n",
    "# 注意：这样并没有拷贝\n",
    "copy_items = items\n",
    "\n",
    "# 推荐写法\n",
    "copy_items = items[:]"
   ]
  },
  {
   "cell_type": "markdown",
   "metadata": {},
   "source": [
    "如果是深拷贝，请使用`from copy import deepcopy`"
   ]
  },
  {
   "cell_type": "markdown",
   "metadata": {},
   "source": [
    "### 4.3 设置字典默认值\n",
    "\n",
    "<code>dict.setdefault(key[,default])</code>方法接受两个参数，第一个是键的名称，第二个参数是默认值。在调用时如果键存在字典中，会返回它的值；如果不存在，则会自动把它添加进字典中并返回默认值，<em>default</em>的默认值为<code>None</code>。此外，<em>default</em>的值还可以是列表，元组，集合和字典等。"
   ]
  },
  {
   "cell_type": "code",
   "execution_count": null,
   "metadata": {},
   "outputs": [],
   "source": [
    "data = [('foo', 10), ('bar', 20), ('foo', 39), ('bar', 49)]\n",
    "\n",
    "# 不好的写法\n",
    "groups = {}\n",
    "for (key, value) in data:\n",
    "    if key in groups:\n",
    "        groups[key].append(value)\n",
    "    else:\n",
    "        groups[key] = [value]\n",
    "\n",
    "print(groups)\n",
    "\n",
    "# 推荐的写法\n",
    "groups = {}\n",
    "for (key, value) in data:\n",
    "    groups.setdefault(key, []).append(value)\n",
    "\n",
    "print(groups)"
   ]
  },
  {
   "cell_type": "markdown",
   "metadata": {},
   "source": [
    "### 4.4 获取字典默认值"
   ]
  },
  {
   "cell_type": "code",
   "execution_count": null,
   "metadata": {},
   "outputs": [],
   "source": [
    "# 推荐写法\n",
    "print(groups.get('foo', None))\n",
    "print(groups.get('hello', None))"
   ]
  },
  {
   "cell_type": "markdown",
   "metadata": {},
   "source": [
    "### 4.5 推导式\n",
    "\n",
    "推导式有好几种：元组，列表，集合，字典等"
   ]
  },
  {
   "cell_type": "code",
   "execution_count": null,
   "metadata": {},
   "outputs": [],
   "source": [
    "# 不好的写法\n",
    "odd_items = []\n",
    "for i in items:\n",
    "    if i % 2 == 0:\n",
    "        odd_items.append(i)\n",
    "\n",
    "# 推荐写法\n",
    "var = [i for i in range(10) if i % 2 == 0]"
   ]
  },
  {
   "cell_type": "markdown",
   "metadata": {},
   "source": [
    "### 4.6 字符串拼接"
   ]
  },
  {
   "cell_type": "code",
   "execution_count": null,
   "metadata": {},
   "outputs": [],
   "source": [
    "langs = ['AS3', 'Lua', 'C']\n",
    "\n",
    "# 不好的写法\n",
    "res = ''\n",
    "for s in langs:\n",
    "    res += s + ' '\n",
    "\n",
    "# 推荐写法\n",
    "res = []\n",
    "for s in langs:\n",
    "    res.append(s)\n",
    "\n",
    "res = \" \".join(res)"
   ]
  },
  {
   "cell_type": "markdown",
   "metadata": {},
   "source": [
    "### 4.7 序列解包"
   ]
  },
  {
   "cell_type": "code",
   "execution_count": null,
   "metadata": {},
   "outputs": [],
   "source": [
    "var = (1, 2)\n",
    "a, b = var"
   ]
  },
  {
   "cell_type": "markdown",
   "metadata": {},
   "source": [
    "### 4.8 zip与enumerate的用法\n",
    "\n",
    "循环语句中，这两个函数非常常用"
   ]
  },
  {
   "cell_type": "code",
   "execution_count": null,
   "metadata": {},
   "outputs": [],
   "source": [
    "names = ['alex', 'bob']\n",
    "ages = [25, 18]\n",
    "for a, b in zip(names, ages):\n",
    "    print(a, b)\n",
    "\n",
    "# for i, a in zip(range(ls), ls):\n",
    "for i, a in enumerate(ls):\n",
    "    print(i, a)"
   ]
  },
  {
   "cell_type": "markdown",
   "metadata": {},
   "source": [
    "### 4.9 with语句\n",
    "\n",
    "涉及文件操作等，应该尽量使用with语句"
   ]
  },
  {
   "cell_type": "code",
   "execution_count": null,
   "metadata": {},
   "outputs": [],
   "source": [
    "filename = '/tmp/test.log'\n",
    "with open(filename, 'w') as r:\n",
    "    # do somethines..."
   ]
  },
  {
   "cell_type": "markdown",
   "metadata": {},
   "source": [
    "###  4.10 多条件判断"
   ]
  },
  {
   "cell_type": "code",
   "execution_count": null,
   "metadata": {},
   "outputs": [],
   "source": [
    "# 多条件判断：and\n",
    "a = 3\n",
    "b = 1\n",
    "c = 2\n",
    "\n",
    "# 不好的写法\n",
    "if a == 3 and b == 1 and c == 2\n",
    "    print('ok')\n",
    "\n",
    "if a == 3 or b == 1 or c == 2:\n",
    "    print('ok')\n",
    "\n",
    "# 推荐写法\n",
    "if all((a == 3, b == 1, c == 2)):\n",
    "    print('ok')\n",
    "\n",
    "# 多条件判断：or\n",
    "if any((a == 3, b == 1, c == 2)):\n",
    "    print('ok')"
   ]
  },
  {
   "cell_type": "markdown",
   "metadata": {},
   "source": [
    "### 4.11 defaultdict\n",
    "\n",
    "<code>defaultdict</code>是Python内建<a href=\"https://docs.python.org/3.6/library/stdtypes.html#dict\" rel=\"nofollow noreferrer\" target=\"_blank\">dict</a>类的一个子类，第一个参数为<em>default_factory</em>属性提供初始值，默认为<code>None</code>。它覆盖一个方法并添加一个可写实例变量。它的其他功能与<code>dict</code>相同，但会为一个不存在的键提供默认值，从而避免<code>KeyError</code>异常。之前例子的实现如下："
   ]
  },
  {
   "cell_type": "code",
   "execution_count": null,
   "metadata": {},
   "outputs": [],
   "source": [
    "from collections import defaultdict\n",
    "\n",
    "data = [('foo', 10), ('bar', 20), ('foo', 39), ('bar', 49)]\n",
    "\n",
    "# 之前的写法\n",
    "groups = {}\n",
    "for (key, value) in data:\n",
    "    groups.setdefault(key, []).append(value)\n",
    "\n",
    "print(groups)\n",
    "\n",
    "# 使用defaultdict的写法\n",
    "groups = defaultdict(list)    # 默认值为一个列表\n",
    "for (key, value) in data:\n",
    "    groups[key].append(value)\n",
    "\n",
    "print(groups)"
   ]
  },
  {
   "cell_type": "markdown",
   "metadata": {},
   "source": [
    "默认值还可以设置成int，str等。"
   ]
  },
  {
   "cell_type": "markdown",
   "metadata": {},
   "source": [
    "### 其他"
   ]
  },
  {
   "cell_type": "code",
   "execution_count": null,
   "metadata": {},
   "outputs": [],
   "source": [
    "# 帮助文档\n",
    "help(all)"
   ]
  },
  {
   "cell_type": "markdown",
   "metadata": {},
   "source": [
    "## 5. 装饰器"
   ]
  },
  {
   "cell_type": "code",
   "execution_count": null,
   "metadata": {},
   "outputs": [],
   "source": [
    "def do_sometings(a):\n",
    "    print(\"In do_someting: %s\" % a)\n",
    "\n",
    "do_sometings('hello')\n",
    "# 如果需要给这个函数加上权限认证怎么办？"
   ]
  },
  {
   "cell_type": "markdown",
   "metadata": {},
   "source": [
    "## 6. 高级用法\n",
    "\n",
    "### 6.1 map/filter/reduce"
   ]
  },
  {
   "cell_type": "code",
   "execution_count": null,
   "metadata": {},
   "outputs": [],
   "source": [
    "def func(arg):\n",
    "    # do something...\n",
    "    arg *= 2\n",
    "    return arg\n",
    "\n",
    "ls = []\n",
    "for n in [1, 2, 3, 4, 5, 6, 7, 8, 9]:\n",
    "    ls.append(func(n))\n",
    "\n",
    "print(ls)\n",
    "print(list(map(func, ls)))\n",
    "\n",
    "\n",
    "ls = [1, 2, 4, 5, 6, 9, 10, 15]\n",
    "# 怎么计算ls的和\n",
    "# 怎么计算ls中所有元素的乘积\n",
    "# 怎么将ls中满足某些条件的元素过滤掉，例如过滤掉奇数列，或者过滤掉9的约数\n"
   ]
  },
  {
   "cell_type": "code",
   "execution_count": null,
   "metadata": {},
   "outputs": [],
   "source": [
    "help(filter)"
   ]
  },
  {
   "cell_type": "markdown",
   "metadata": {},
   "source": [
    "### 6.2 排序"
   ]
  },
  {
   "cell_type": "code",
   "execution_count": null,
   "metadata": {},
   "outputs": [],
   "source": [
    "ls = [('Bob', 75), ('Adam', 92), ('Bart', 66), ('Lisa', 88)]\n",
    "sorted(ls, key=lambda x: x[1], reverse=True)"
   ]
  },
  {
   "cell_type": "code",
   "execution_count": null,
   "metadata": {},
   "outputs": [],
   "source": [
    "help(sorted)"
   ]
  }
 ],
 "metadata": {
  "kernelspec": {
   "display_name": "Python 3",
   "language": "python",
   "name": "python3"
  },
  "language_info": {
   "codemirror_mode": {
    "name": "ipython",
    "version": 3
   },
   "file_extension": ".py",
   "mimetype": "text/x-python",
   "name": "python",
   "nbconvert_exporter": "python",
   "pygments_lexer": "ipython3",
   "version": "3.6.9"
  }
 },
 "nbformat": 4,
 "nbformat_minor": 4
}
